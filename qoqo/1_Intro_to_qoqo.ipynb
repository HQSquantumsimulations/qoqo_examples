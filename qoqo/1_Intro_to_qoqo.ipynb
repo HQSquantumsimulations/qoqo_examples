{
 "cells": [
  {
   "cell_type": "markdown",
   "id": "3051345c",
   "metadata": {},
   "source": [
    "Copyright © 2022-2023 HQS Quantum Simulations GmbH. All Rights Reserved.\n",
    "\n",
    "Licensed under the Apache License, Version 2.0 (the \"License\"); you may not use this file except\n",
    "in compliance with the License. You may obtain a copy of the License at\n",
    "\n",
    "http://www.apache.org/licenses/LICENSE-2.0\n",
    "\n",
    "Unless required by applicable law or agreed to in writing, software distributed under the\n",
    "License is distributed on an \"AS IS\" BASIS, WITHOUT WARRANTIES OR CONDITIONS OF ANY KIND, either\n",
    "express or implied. See the License for the specific language governing permissions and\n",
    "limitations under the License."
   ]
  },
  {
   "cell_type": "markdown",
   "id": "linear-albania",
   "metadata": {},
   "source": [
    "# Introduction to qoqo\n",
    "Quantum Operation Quantum Operation  \n",
    "Yes, we use [reduplication](https://en.wikipedia.org/wiki/Reduplication)\n",
    "\n",
    "### What roqoqo/qoqo is\n",
    "\n",
    "* A toolkit to represent quantum operations and circuits\n",
    "* A tool to package quantum circuits and classical information into quantum programs\n",
    "* A way to serialize quantum programs\n",
    "* A set of optional interfaces to devices, simulators and toolkits (e.g. [qoqo_quest](https://github.com/HQSquantumsimulations/qoqo-quest), [qoqo_mock](https://github.com/HQSquantumsimulations/qoqo_mock), [qoqo_qasm](https://github.com/HQSquantumsimulations/qoqo_qasm))\n",
    "\n",
    "### What roqoqo/qoqo is **not**\n",
    "\n",
    "* A decomposer translating circuits to a specific set of gates\n",
    "* A quantum circuit optimizer\n",
    "* A collection of quantum algorithms\n"
   ]
  },
  {
   "cell_type": "code",
   "execution_count": null,
   "id": "a1945017",
   "metadata": {},
   "outputs": [],
   "source": [
    "from qoqo.operations import RotateZ, RotateX\n",
    "\n",
    "gate1 = RotateZ(qubit=0, theta=1)\n",
    "gate2 = RotateX(qubit=0, theta=1)\n",
    "\n",
    "multiplied = gate1.mul(gate2)\n",
    "print(\"Multiplied gate: \", multiplied)"
   ]
  },
  {
   "cell_type": "markdown",
   "id": "amber-jungle",
   "metadata": {},
   "source": [
    "## A simple circuit and measurement\n",
    "\n",
    "We show the construction of a simple entangling circuit and an observable measurement based on this circuit"
   ]
  },
  {
   "cell_type": "markdown",
   "id": "secondary-accused",
   "metadata": {},
   "source": [
    "### Entangling circuit snippet\n",
    "Similar to many other toolkits the unitary entangling circuit can be constructed by adding operations to a circuit"
   ]
  },
  {
   "cell_type": "code",
   "execution_count": null,
   "id": "capable-dallas",
   "metadata": {},
   "outputs": [],
   "source": [
    "from qoqo import Circuit\n",
    "from qoqo import operations as ops\n",
    "\n",
    "circuit_snippet = Circuit()\n",
    "circuit_snippet += ops.Hadamard(qubit=0)\n",
    "circuit_snippet += ops.CNOT(control=0, target=1)\n",
    "\n",
    "print(circuit_snippet)\n",
    "print(len(circuit_snippet))\n",
    "print(circuit_snippet.get_operation_types())\n",
    "\n",
    "assert len(circuit_snippet) == 2\n",
    "assert circuit_snippet.get_operation_types() == set(['Hadamard', 'CNOT'])"
   ]
  },
  {
   "cell_type": "markdown",
   "id": "marine-socket",
   "metadata": {},
   "source": [
    "### Measuring qubits\n",
    "roqoqo uses classical registers for the readout. We need to add a classical register definition to the circuit and a measurement statement.\n",
    "The number of projective measurements can be directly set in the circuit.  \n",
    "The simulation and measurement of the circuit is handled by the qoqo_quest interface (in this example)."
   ]
  },
  {
   "cell_type": "code",
   "execution_count": null,
   "id": "middle-emerald",
   "metadata": {},
   "outputs": [],
   "source": [
    "from qoqo_quest import Backend\n",
    "\n",
    "from qoqo import Circuit\n",
    "from qoqo import operations as ops\n",
    "\n",
    "circuit = Circuit()\n",
    "\n",
    "circuit += ops.Hadamard(qubit=0)\n",
    "circuit += ops.CNOT(control=0, target=1)\n",
    "# Define a classical register for the measurement output\n",
    "circuit += ops.DefinitionBit(name='ro', length=2, is_output=True)\n",
    "circuit += ops.PragmaRepeatedMeasurement(readout='ro', number_measurements=10, qubit_mapping=None)\n",
    "\n",
    "backend = Backend(number_qubits=2)\n",
    "(result_bit_registers, result_float_registers, result_complex_registers) \\\n",
    "        = backend.run_circuit(circuit)\n",
    "\n",
    "for single_projective_measurement in result_bit_registers['ro'] :\n",
    "    print(single_projective_measurement)\n",
    "    \n",
    "assert len(result_bit_registers['ro']) == 10"
   ]
  },
  {
   "cell_type": "markdown",
   "id": "interesting-screw",
   "metadata": {},
   "source": [
    "### Measuring Observables\n",
    "roqoqo includes the direct evaluation of projective measurements to an observable measurement *e.g.* $3 \\langle Z_0 \\rangle + \\langle Z_0 Z_1 \\rangle$.  \n",
    "The measurement is defined by a set of expectation values of a product of pauli operators and a matrix that combines the expectation values  "
   ]
  },
  {
   "cell_type": "code",
   "execution_count": null,
   "id": "impossible-civilization",
   "metadata": {},
   "outputs": [],
   "source": [
    "from qoqo.measurements import PauliZProductInput, PauliZProduct\n",
    "from qoqo import QuantumProgram\n",
    "from qoqo_quest import Backend\n",
    "\n",
    "from qoqo import Circuit\n",
    "from qoqo import operations as ops\n",
    "import numpy as np\n",
    "import scipy.sparse as sp\n",
    "\n",
    "circuit = Circuit()\n",
    "circuit += ops.DefinitionBit(name='ro', length=2, is_output=True)\n",
    "circuit += ops.PauliX(qubit=0)\n",
    "#circuit += ops.Hadamard(qubit=0)\n",
    "circuit += ops.CNOT(control=0, target=1)\n",
    "circuit += ops.PragmaRepeatedMeasurement(readout='ro', number_measurements=10, qubit_mapping=None)\n",
    "\n",
    "measurement_input = PauliZProductInput(number_qubits=2, use_flipped_measurement=False)\n",
    "index0 = measurement_input.add_pauliz_product(readout=\"ro\", pauli_product_mask=[0])\n",
    "index1 = measurement_input.add_pauliz_product(readout=\"ro\", pauli_product_mask=[0,1]) # From readout 'ro' measure two pauli products 0: < Z0 > and 1: < Z0 Z1 >\n",
    "measurement_input.add_linear_exp_val(name=\"example\", linear={0:3.0, 1: 1.0}) # One expectation value: 3 * pauli_product0 + 1 * pauli_product1\n",
    "\n",
    "measurement = PauliZProduct(input=measurement_input, circuits=[circuit], constant_circuit=None )\n",
    "\n",
    "backend = Backend(number_qubits=2)\n",
    "\n",
    "program = QuantumProgram(measurement=measurement, input_parameter_names=[])\n",
    "res = program.run(backend)[\"example\"]\n",
    "print(\"Result of QuantumProgram\", res)\n",
    "\n",
    "assert res > -4.0 * 10\n",
    "assert res < 4.0 * 10"
   ]
  },
  {
   "cell_type": "markdown",
   "id": "typical-contract",
   "metadata": {},
   "source": [
    "### De/Serializing the quantum program\n",
    "\n",
    "Same procedure as introduced in the example before, but now the measurement, and afterwards the quantum program, are serialized to and de-serialized from json. The measurement result is compared before and after the de/-serialization."
   ]
  },
  {
   "cell_type": "code",
   "execution_count": null,
   "id": "generous-voluntary",
   "metadata": {},
   "outputs": [],
   "source": [
    "from qoqo.measurements import PauliZProductInput, PauliZProduct\n",
    "from qoqo import QuantumProgram\n",
    "from qoqo_quest import Backend\n",
    "from qoqo import Circuit\n",
    "from qoqo import operations as ops\n",
    "import numpy as np\n",
    "import scipy.sparse as sp\n",
    "\n",
    "circuit = Circuit()\n",
    "circuit += ops.DefinitionBit(name='ro', length=2, is_output=True)\n",
    "circuit += ops.PauliX(qubit=0)\n",
    "circuit += ops.CNOT(control=0, target=1)\n",
    "circuit += ops.PragmaRepeatedMeasurement(readout='ro', number_measurements=10, qubit_mapping=None)\n",
    "\n",
    "measurement_input = PauliZProductInput(number_qubits=2, use_flipped_measurement=False)\n",
    "index0 = measurement_input.add_pauliz_product(readout=\"ro\", pauli_product_mask=[0])\n",
    "index1 = measurement_input.add_pauliz_product(readout=\"ro\", pauli_product_mask=[0,1]) # From readout 'ro' measure two pauli products 0: < Z0 > and 1: < Z0 Z1 >\n",
    "measurement_input.add_linear_exp_val(name=\"example\", linear={0:3.0, 1: 1.0}) # One expectation value: 3 * pauli_product0 + 1 * pauli_product1\n",
    "\n",
    "measurement = PauliZProduct(input=measurement_input, circuits=[circuit], constant_circuit=None )\n",
    "backend = Backend(number_qubits=2)\n",
    "program = QuantumProgram(measurement=measurement, input_parameter_names=[])\n",
    "\n",
    "\n",
    "measurement_json = measurement.to_json()\n",
    "assert measurement_json != \"\"\n",
    "measurement_new = PauliZProduct.from_json(measurement_json)\n",
    "print(\"De/Serialization of PauliZProduct performed successfully.\")\n",
    "\n",
    "program_json = program.to_json()\n",
    "assert program_json != \"\"\n",
    "program_new = QuantumProgram.from_json(program_json)\n",
    "print(\"De/Serialization of QuantumProgram performed successfully.\")"
   ]
  },
  {
   "cell_type": "markdown",
   "id": "parliamentary-statistics",
   "metadata": {},
   "source": [
    "## Fine control over decoherence\n",
    "roqoqo allows full control over decoherence by placing decoherence operations in the circuit on the same level as gates.  \n",
    "Example: Letting only one qubit decay.  \n",
    "The backend automatically switches from statevector simulation to density matrix simulation in the presence of noise."
   ]
  },
  {
   "cell_type": "code",
   "execution_count": null,
   "id": "dedicated-plane",
   "metadata": {},
   "outputs": [],
   "source": [
    "from qoqo import QuantumProgram\n",
    "from qoqo_quest import Backend\n",
    "from qoqo import Circuit\n",
    "from qoqo import operations as ops\n",
    "\n",
    "damping = 0.1\n",
    "number_measurements = 100\n",
    "circuit = Circuit()\n",
    "circuit += ops.DefinitionBit(name='ro', length=2, is_output=True)\n",
    "circuit += ops.PauliX(qubit=0)\n",
    "circuit += ops.PauliX(qubit=1)\n",
    "circuit += ops.PragmaDamping(qubit=0, gate_time=1, rate=damping)\n",
    "circuit += ops.PragmaRepeatedMeasurement(readout='ro', number_measurements=number_measurements, qubit_mapping=None)\n",
    "print(circuit)\n",
    "backend = Backend(number_qubits=2)\n",
    "(result_bit_registers, result_float_registers, result_complex_registers) = backend.run_circuit(circuit)\n",
    "sum_test = np.array([0.0, 0.0])\n",
    "for single_projective_measurement in result_bit_registers['ro']:\n",
    "    #print(single_projective_measurement)\n",
    "    sum_test += single_projective_measurement\n",
    "scaled_result = sum_test/number_measurements\n",
    "print(\"Scaled result\", scaled_result)\n",
    "\n",
    "assert len(scaled_result) == 2"
   ]
  },
  {
   "cell_type": "markdown",
   "id": "prostate-analysis",
   "metadata": {},
   "source": [
    "## Symbolic parameters\n",
    "In many cases, operation parameters depend on a symbolic parameter of the whole quantum program (time in time-evolution, overrotation, variational parameters...)  \n",
    "roqoqo allows the fast calculation of symbolic parameter expressions.  \n",
    "Expressions are provided in string form.  \n",
    "QuantumProgram can automatically replace symbolic parameters using call parameters."
   ]
  },
  {
   "cell_type": "markdown",
   "id": "cross-forest",
   "metadata": {},
   "source": [
    "### Writing the symbolic circuit and replacing symbolic parameters"
   ]
  },
  {
   "cell_type": "code",
   "execution_count": null,
   "id": "exposed-generation",
   "metadata": {},
   "outputs": [],
   "source": [
    "from qoqo import Circuit\n",
    "from qoqo import operations as ops\n",
    "circuit = Circuit()\n",
    "print('Symbolic circuit')\n",
    "circuit += ops.RotateX(qubit=0, theta='3*time+offset')\n",
    "\n",
    "print(circuit)\n",
    "\n",
    "circuit2 = circuit.substitute_parameters({'time': 1/3, 'offset':1})\n",
    "print('After substitution')\n",
    "print(circuit2)\n"
   ]
  },
  {
   "cell_type": "markdown",
   "id": "talented-operations",
   "metadata": {},
   "source": [
    "### Symbolic parameters in a full quantum program"
   ]
  },
  {
   "cell_type": "code",
   "execution_count": null,
   "id": "proof-lancaster",
   "metadata": {},
   "outputs": [],
   "source": [
    "from qoqo.measurements import PauliZProductInput, PauliZProduct\n",
    "from qoqo import QuantumProgram\n",
    "from qoqo_quest import Backend\n",
    "from qoqo import Circuit\n",
    "from qoqo import operations as ops\n",
    "import numpy as np\n",
    "import scipy.sparse as sp\n",
    "\n",
    "number_measurements = 100000\n",
    "\n",
    "circuit = Circuit()\n",
    "circuit += ops.DefinitionBit(name='ro', length=2, is_output=True)\n",
    "circuit += ops.RotateX(qubit=0, theta='3*time+offset')\n",
    "circuit += ops.PragmaRepeatedMeasurement(readout='ro', number_measurements=number_measurements, qubit_mapping=None)\n",
    "\n",
    "measurement_input = PauliZProductInput(number_qubits=2, use_flipped_measurement=False)\n",
    "index0 = measurement_input.add_pauliz_product(readout=\"ro\", pauli_product_mask=[0])\n",
    "index1 = measurement_input.add_pauliz_product(readout=\"ro\", pauli_product_mask=[0,1]) # From readout 'ro' measure two pauli products 0: < Z0 > and 1: < Z0 Z1 >\n",
    "measurement_input.add_linear_exp_val(name=\"example\", linear={0:3.0, 1: 1.0}) # One expectation value: 3 * pauli_product0 + 1 * pauli_product1\n",
    "\n",
    "measurement = PauliZProduct(input=measurement_input, circuits=[circuit], constant_circuit=None )\n",
    "\n",
    "backend = Backend(number_qubits=2)\n",
    "\n",
    "program = QuantumProgram(measurement=measurement, input_parameter_names=['time', 'offset']) # The symbolic parameter is the free parameter\n",
    "result = program.run(backend,[0.5, 0])\n",
    "print(\"Result\", result)\n",
    "\n",
    "assert len(result) == 1"
   ]
  },
  {
   "cell_type": "markdown",
   "id": "ready-benjamin",
   "metadata": {},
   "source": [
    "## Testing scaling performance with qoqo_mock\n",
    "Quantum simulators cannot simulate systems with a significant number of qubits fast enough to benchmark qoqo with a large number of qubits and operations.\n",
    "The qoqo_mock interface can be used to benchmark qoqo without simulating a quantum computer."
   ]
  },
  {
   "cell_type": "code",
   "execution_count": null,
   "id": "independent-staff",
   "metadata": {},
   "outputs": [],
   "source": [
    "from qoqo.measurements import PauliZProductInput, PauliZProduct\n",
    "from qoqo import QuantumProgram\n",
    "from qoqo_mock import MockedBackend\n",
    "from qoqo import Circuit\n",
    "from qoqo import operations as ops\n",
    "import numpy as np\n",
    "import timeit\n",
    "\n",
    "# Default values are small to reduce load for automated testing uncomment values to test large systems\n",
    "\n",
    "number_measurements = 10 # 1000\n",
    "number_operations = 100 # 1000000\n",
    "number_qubits = 5 # 500\n",
    "\n",
    "circuit = Circuit()\n",
    "\n",
    "circuit += ops.DefinitionBit(name='ro', length=number_qubits, is_output=True)\n",
    "\n",
    "for i, q in zip(np.random.randint(0,4,number_operations), np.random.randint(0,500,number_operations)):\n",
    "    if i == 0:\n",
    "        circuit += ops.RotateX(qubit=q, theta=\"4*theta_x\")\n",
    "    if i == 1:\n",
    "        circuit += ops.RotateY(qubit=q, theta=\"2*theta_y\")\n",
    "    if i == 2:\n",
    "        circuit += ops.RotateZ(qubit=q, theta=\"3*theta_z\")\n",
    "    if i == 4:\n",
    "        circuit += ops.ControlledPauliZ(qubit=q, control=0)\n",
    "circuit += ops.PragmaRepeatedMeasurement(readout='ro', number_measurements=number_measurements, qubit_mapping=None)\n",
    "\n",
    "pp_dict = dict()\n",
    "\n",
    "measurement_input = PauliZProductInput(number_qubits=number_qubits, use_flipped_measurement=False)\n",
    "for i in range(number_qubits):\n",
    "    index0 = measurement_input.add_pauliz_product(readout=\"ro\", pauli_product_mask=[i])\n",
    "    pp_dict[number_qubits] = i\n",
    "\n",
    "measurement_input.add_linear_exp_val(name=\"example\", linear={0:1.0})\n",
    "\n",
    "measurement = PauliZProduct(input=measurement_input, circuits=[circuit], constant_circuit=None )\n",
    "\n",
    "backend= MockedBackend(number_qubits=number_qubits)\n",
    "program = QuantumProgram(measurement=measurement,  input_parameter_names=['theta_x', 'theta_y', 'theta_z'])\n",
    "res = program.run(backend, [0,1,2])\n",
    "print(\"Result\", res)\n",
    "time_taken = timeit.timeit('program.run(backend, [0,1,2])', globals=globals(),number=1)\n",
    "print(\"Time taken\", time_taken)\n",
    "\n",
    "assert len(res) == 1\n",
    "assert time_taken < 30"
   ]
  }
 ],
 "metadata": {
  "kernelspec": {
   "display_name": "Python 3 (ipykernel)",
   "language": "python",
   "name": "python3"
  },
  "language_info": {
   "codemirror_mode": {
    "name": "ipython",
    "version": 3
   },
   "file_extension": ".py",
   "mimetype": "text/x-python",
   "name": "python",
   "nbconvert_exporter": "python",
   "pygments_lexer": "ipython3",
   "version": "3.9.13"
  },
  "vscode": {
   "interpreter": {
    "hash": "a1ba31c400d137d76a70fc2e1974f61660e195f0d443a61c8b897cf0b0e57695"
   }
  }
 },
 "nbformat": 4,
 "nbformat_minor": 5
}
