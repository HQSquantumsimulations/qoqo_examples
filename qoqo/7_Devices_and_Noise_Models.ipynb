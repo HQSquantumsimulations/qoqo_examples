{
 "cells": [
  {
   "cell_type": "markdown",
   "id": "3051345c",
   "metadata": {},
   "source": [
    "Copyright © 2022-2023 HQS Quantum Simulations GmbH. All Rights Reserved.\n",
    "\n",
    "Licensed under the Apache License, Version 2.0 (the \"License\"); you may not use this file except\n",
    "in compliance with the License. You may obtain a copy of the License at\n",
    "\n",
    "http://www.apache.org/licenses/LICENSE-2.0\n",
    "\n",
    "Unless required by applicable law or agreed to in writing, software distributed under the\n",
    "License is distributed on an \"AS IS\" BASIS, WITHOUT WARRANTIES OR CONDITIONS OF ANY KIND, either\n",
    "express or implied. See the License for the specific language governing permissions and\n",
    "limitations under the License."
   ]
  },
  {
   "cell_type": "markdown",
   "id": "linear-albania",
   "metadata": {},
   "source": [
    "# Devices: GenericDevice, AllToAllDevice and SquareLatticeDevice\n",
    "\n",
    "When working with quantum circuits it is often necessary to know the topology of a target quantum device. Device properties can also be used by backends, for example to accurately simulate a given quantum device.\n",
    "qoqo/roqoqo defines an interface for obtaining the device topology. The interface is defined by roqoqo's `Device` trait. Additionally qoqo/roqoqo provides some simple devices that can be used to quickly define simple device topologies.\n",
    "\n"
   ]
  },
  {
   "cell_type": "markdown",
   "metadata": {},
   "source": [
    "## GenericDevice\n",
    "The `GenericDevice` is the most basic device. It simply contains all available gate operations, the corresponding gate times and the decoherence rate for each qubit in internal HashMaps. It can be used to create custom devices and as a device interchange format. As part of the `Device` interface, each device can be exported as a `GenericDevice` with the `to_generic_device` function.\n"
   ]
  },
  {
   "cell_type": "code",
   "execution_count": 1,
   "id": "a1945017",
   "metadata": {},
   "outputs": [],
   "source": [
    "from qoqo import devices\n",
    "import numpy as np\n",
    "\n",
    "# Create a two-qubit device\n",
    "generic_device = devices.GenericDevice(2)\n",
    "# Create a comparison two-qubit device with `RotateZ` and `CNOT` as the only gates and 1.0 as the default gate time\n",
    "all_to_all = devices.AllToAllDevice(2, [\"RotateZ\"], [\"CNOT\"], 1.0)\n",
    "\n",
    "generic_device.set_single_qubit_gate_time(\"RotateZ\", 0, 1.0)\n",
    "generic_device.set_single_qubit_gate_time(\"RotateZ\", 1, 1.0)\n",
    "generic_device.set_two_qubit_gate_time(\"CNOT\", 0, 1, 1.0)\n",
    "generic_device.set_two_qubit_gate_time(\"CNOT\", 1, 0, 1.0)\n",
    "# Set the decoherence rates directly\n",
    "generic_device.set_qubit_decoherence_rates(0, np.array([[0.0, 0.0, 0.0],[0.0, 0.0, 0.0],[0.0, 0.0, 0.0]]))\n",
    "generic_device.set_qubit_decoherence_rates(1, np.array([[0.0, 0.0, 0.0],[0.0, 0.0, 0.0],[0.0, 0.0, 0.0]]))\n",
    "assert generic_device == all_to_all.generic_device()\n"
   ]
  },
  {
   "cell_type": "markdown",
   "id": "amber-jungle",
   "metadata": {},
   "source": [
    "## AllToAllDevice\n",
    "The `AllToAllDevice` can be used to quickly create a device with all-to-all connectivity. It provides functions to set the gate time on all gates of a certain type and set the decoherence rates of all qubits. Contrary to the functions operating on single gates (`set_single_qubit_gate` etc.) those functions do not change the device but return a copy with these changes.\n",
    "\n",
    "When setting attributes for *all* of the qubits on the device, the `AllToAllDevice` uses a builder pattern, in order for the user to be able to chain such calls. This is demonstrated below.\n"
   ]
  },
  {
   "cell_type": "code",
   "execution_count": 2,
   "id": "capable-dallas",
   "metadata": {},
   "outputs": [],
   "source": [
    "from qoqo import devices\n",
    "import numpy as np\n",
    "\n",
    "# Create a two-qubit device with `RotateZ` and `CNOT` as the only gates and 1.0 as the default gate time\n",
    "all_to_all = devices.AllToAllDevice(2, [\"RotateZ\"], [\"CNOT\"], 1.0)\n",
    "\n",
    "# Set a new time for all RotateZ gates and all CNOT gates\n",
    "all_to_all = all_to_all.set_all_single_qubit_gate_times(\"RotateZ\", 2.0).set_all_two_qubit_gate_times(\"CNOT\", 0.1)"
   ]
  },
  {
   "cell_type": "markdown",
   "id": "marine-socket",
   "metadata": {},
   "source": [
    "## SquareLatticeDevice\n",
    "The `SquareLatticeDevice` can be used to quickly initialize a device with two-qubit operations available between next-neighbours on a square lattice. The same methods as `AllToAllDevice` are available.\n"
   ]
  },
  {
   "cell_type": "code",
   "execution_count": 3,
   "id": "middle-emerald",
   "metadata": {},
   "outputs": [],
   "source": [
    "from qoqo import devices\n",
    "\n",
    "rows = 1\n",
    "columns = 2\n",
    "\n",
    "# Create a two-qubit device with `RotateZ` and `CNOT` as the only gates and 1.0 as the default gate time\n",
    "square_lattice = devices.SquareLatticeDevice(rows, columns, [\"RotateZ\"], [\"CNOT\"], 1.0)\n"
   ]
  },
  {
   "cell_type": "markdown",
   "metadata": {},
   "source": [
    "## Serialisation\n",
    "\n",
    "The user can serialise and deserialise the devices using `to_json` and `from_json`. They can also generate the corresponding JSON schema."
   ]
  },
  {
   "cell_type": "code",
   "execution_count": 7,
   "metadata": {},
   "outputs": [
    {
     "name": "stdout",
     "output_type": "stream",
     "text": [
      "{\n",
      "  \"$schema\": \"http://json-schema.org/draft-07/schema#\",\n",
      "  \"title\": \"GenericDevice\",\n",
      "  \"type\": \"object\",\n",
      "  \"required\": [\n",
      "    \"_roqoqo_version\",\n",
      "    \"decoherence_rates\",\n",
      "    \"multi_qubit_gates\",\n",
      "    \"number_qubits\",\n",
      "    \"single_qubit_gates\",\n",
      "    \"two_qubit_gates\"\n",
      "  ],\n",
      "  \"properties\": {\n",
      "    \"_roqoqo_version\": {\n",
      "      \"$ref\": \"#/definitions/RoqoqoVersionSerializable\"\n",
      "    },\n",
      "    \"decoherence_rates\": {\n",
      "      \"description\": \"Decoherence rates for all qubits\",\n",
      "      \"type\": \"array\",\n",
      "      \"items\": {\n",
      "        \"type\": \"array\",\n",
      "        \"items\": [\n",
      "          {\n",
      "            \"type\": \"integer\",\n",
      "            \"format\": \"uint\",\n",
      "            \"minimum\": 0.0\n",
      "          },\n",
      "          {\n",
      "            \"$ref\": \"#/definitions/Array2_f64\"\n",
      "          }\n",
      "        ],\n",
      "        \"maxItems\": 2,\n",
      "        \"minItems\": 2\n",
      "      }\n",
      "    },\n",
      "    \"multi_qubit_gates\": {\n",
      "      \"description\": \"Gate times for all multi qubit gates\",\n",
      "      \"type\": \"object\",\n",
      "      \"additionalProperties\": {\n",
      "        \"type\": \"array\",\n",
      "        \"items\": {\n",
      "          \"type\": \"array\",\n",
      "          \"items\": [\n",
      "            {\n",
      "              \"type\": \"array\",\n",
      "              \"items\": {\n",
      "                \"type\": \"integer\",\n",
      "                \"format\": \"uint\",\n",
      "                \"minimum\": 0.0\n",
      "              }\n",
      "            },\n",
      "            {\n",
      "              \"type\": \"number\",\n",
      "              \"format\": \"double\"\n",
      "            }\n",
      "          ],\n",
      "          \"maxItems\": 2,\n",
      "          \"minItems\": 2\n",
      "        }\n",
      "      }\n",
      "    },\n",
      "    \"number_qubits\": {\n",
      "      \"description\": \"The number of qubits\",\n",
      "      \"type\": \"integer\",\n",
      "      \"format\": \"uint\",\n",
      "      \"minimum\": 0.0\n",
      "    },\n",
      "    \"single_qubit_gates\": {\n",
      "      \"description\": \"Gate times for all single qubit gates\",\n",
      "      \"type\": \"object\",\n",
      "      \"additionalProperties\": {\n",
      "        \"type\": \"array\",\n",
      "        \"items\": {\n",
      "          \"type\": \"array\",\n",
      "          \"items\": [\n",
      "            {\n",
      "              \"type\": \"integer\",\n",
      "              \"format\": \"uint\",\n",
      "              \"minimum\": 0.0\n",
      "            },\n",
      "            {\n",
      "              \"type\": \"number\",\n",
      "              \"format\": \"double\"\n",
      "            }\n",
      "          ],\n",
      "          \"maxItems\": 2,\n",
      "          \"minItems\": 2\n",
      "        }\n",
      "      }\n",
      "    },\n",
      "    \"two_qubit_gates\": {\n",
      "      \"description\": \"Gate times for all two qubit gates\",\n",
      "      \"type\": \"object\",\n",
      "      \"additionalProperties\": {\n",
      "        \"type\": \"array\",\n",
      "        \"items\": {\n",
      "          \"type\": \"array\",\n",
      "          \"items\": [\n",
      "            {\n",
      "              \"type\": \"array\",\n",
      "              \"items\": [\n",
      "                {\n",
      "                  \"type\": \"integer\",\n",
      "                  \"format\": \"uint\",\n",
      "                  \"minimum\": 0.0\n",
      "                },\n",
      "                {\n",
      "                  \"type\": \"integer\",\n",
      "                  \"format\": \"uint\",\n",
      "                  \"minimum\": 0.0\n",
      "                }\n",
      "              ],\n",
      "              \"maxItems\": 2,\n",
      "              \"minItems\": 2\n",
      "            },\n",
      "            {\n",
      "              \"type\": \"number\",\n",
      "              \"format\": \"double\"\n",
      "            }\n",
      "          ],\n",
      "          \"maxItems\": 2,\n",
      "          \"minItems\": 2\n",
      "        }\n",
      "      }\n",
      "    }\n",
      "  },\n",
      "  \"definitions\": {\n",
      "    \"Array2_f64\": {\n",
      "      \"type\": \"object\",\n",
      "      \"required\": [\n",
      "        \"data\",\n",
      "        \"dim\",\n",
      "        \"v\"\n",
      "      ],\n",
      "      \"properties\": {\n",
      "        \"data\": {\n",
      "          \"type\": \"array\",\n",
      "          \"items\": {\n",
      "            \"type\": \"number\",\n",
      "            \"format\": \"double\"\n",
      "          }\n",
      "        },\n",
      "        \"dim\": {\n",
      "          \"type\": \"array\",\n",
      "          \"items\": {\n",
      "            \"type\": \"integer\",\n",
      "            \"format\": \"uint8\",\n",
      "            \"minimum\": 0.0\n",
      "          }\n",
      "        },\n",
      "        \"v\": {\n",
      "          \"type\": \"integer\",\n",
      "          \"format\": \"uint8\",\n",
      "          \"minimum\": 0.0\n",
      "        }\n",
      "      }\n",
      "    },\n",
      "    \"RoqoqoVersionSerializable\": {\n",
      "      \"type\": \"object\",\n",
      "      \"required\": [\n",
      "        \"major_version\",\n",
      "        \"minor_version\"\n",
      "      ],\n",
      "      \"properties\": {\n",
      "        \"major_version\": {\n",
      "          \"description\": \"The semver major version of roqoqo\",\n",
      "          \"type\": \"integer\",\n",
      "          \"format\": \"uint32\",\n",
      "          \"minimum\": 0.0\n",
      "        },\n",
      "        \"minor_version\": {\n",
      "          \"description\": \"The semver minor version of roqoqo\",\n",
      "          \"type\": \"integer\",\n",
      "          \"format\": \"uint32\",\n",
      "          \"minimum\": 0.0\n",
      "        }\n",
      "      }\n",
      "    }\n",
      "  }\n",
      "}\n"
     ]
    }
   ],
   "source": [
    "from qoqo import devices\n",
    "\n",
    "generic_device = devices.GenericDevice(2)\n",
    "device_serialised = generic_device.to_json()\n",
    "device_deserialised = devices.GenericDevice.from_json(device_serialised)\n",
    "assert generic_device == device_deserialised\n",
    "\n",
    "print(generic_device.json_schema())"
   ]
  },
  {
   "cell_type": "markdown",
   "metadata": {},
   "source": [
    "# Noise Models: ContinuousDecoherenceModel, DecoherenceOnGateModel, ImperfectReadout\n",
    "\n",
    "When working with quantum computers it is often necessary to know the physical noise present of a target quantum device, particularly for NISQ devices. In roqoqo/qoqo, we have defined the three following noise models:\n"
   ]
  },
  {
   "cell_type": "markdown",
   "metadata": {},
   "source": [
    "## ContinuousDecoherenceModel\n",
    "\n",
    "The `ContinuousDecoherenceModel` is the noise model representing a continuous decoherence process on qubits. This noise model assumes that all qubits are constantly experiencing decoherence over time (e.g. due to coupling to the environment). The noise for each qubit can be different but only single qubit noise is included in the model.\n"
   ]
  },
  {
   "cell_type": "code",
   "execution_count": 8,
   "metadata": {},
   "outputs": [],
   "source": [
    "from qoqo import noise_models\n",
    "import numpy as np\n",
    "\n",
    "continuous_model = noise_models.ContinuousDecoherenceModel()\n",
    "continuous_model = continuous_model.add_damping_rate([0, 1, 2], 0.001)\n",
    "continuous_model = continuous_model.add_dephasing_rate([0, 1, 2], 0.0005)\n",
    "continuous_model = continuous_model.add_depolarising_rate([0, 1, 2], 0.0001)\n",
    "continuous_model = continuous_model.add_excitation_rate([0, 1, 2], 0.0006)\n",
    "\n",
    "# Access the underlying struqture operator\n",
    "lindblad_noise = continuous_model.get_noise_operator()\n",
    "lindblad_noise.add_operator_product((\"0+\", \"0+\"), 0.1)\n",
    "new_continuous_model = noise_models.ContinuousDecoherenceModel(lindblad_noise)\n"
   ]
  },
  {
   "cell_type": "markdown",
   "metadata": {},
   "source": [
    "## DecoherenceOnGateModel\n",
    "\n",
    "The `DecoherenceOnGateModel` is the error model for noise that is only present on gate executions.Adds additional noise when specific gates (identified by hqslang name and qubits acted on) are executed. The noise is given in the form of a [struqture::spins::PlusMinusLindbladNoiseOperator] the same way it is for the ContinuousDecoherence model."
   ]
  },
  {
   "cell_type": "code",
   "execution_count": 9,
   "metadata": {},
   "outputs": [],
   "source": [
    "from qoqo import noise_models\n",
    "from struqture_py.spins import PlusMinusLindbladNoiseOperator, PlusMinusProduct\n",
    "import numpy as np\n",
    "\n",
    "noise_model = noise_models.DecoherenceOnGateModel()\n",
    "lindblad_noise = PlusMinusLindbladNoiseOperator()\n",
    "lindblad_noise.add_operator_product(\n",
    "   (PlusMinusProduct().z(0), PlusMinusProduct().z(0)),\n",
    "   0.9)\n",
    "lindblad_noise.add_operator_product(\n",
    "   (PlusMinusProduct().z(1), PlusMinusProduct().z(1)),\n",
    "   0.9)\n",
    "\n",
    "noise_model = noise_model.set_two_qubit_gate_error(\n",
    "    \"CNOT\", 0,1,\n",
    "    lindblad_noise\n",
    ")\n"
   ]
  },
  {
   "cell_type": "markdown",
   "metadata": {},
   "source": [
    "## ImperfectReadoutModel\n",
    "\n",
    "The `ImperfectReadoutModel` is the noise model representing readout errors. This noise model assumes that all qubits are constantly experiencing decoherence over time (e.g. due to coupling to the environment)."
   ]
  },
  {
   "cell_type": "code",
   "execution_count": 10,
   "metadata": {},
   "outputs": [],
   "source": [
    "from qoqo import noise_models\n",
    "import numpy as np\n",
    "\n",
    "model = noise_models.ImperfectReadoutModel.new_with_uniform_error(3, 0.5, 0.5)\n",
    "model = model.set_error_probabilites(2, 0.3, 0.7)\n",
    "uniform_prob = model.prob_detect_0_as_1(0)\n",
    "assert uniform_prob == 0.5\n",
    "lower_prob = model.prob_detect_0_as_1(2)\n",
    "assert lower_prob == 0.3\n",
    "higher_prob = model.prob_detect_1_as_0(2)\n",
    "assert higher_prob == 0.7\n"
   ]
  },
  {
   "cell_type": "markdown",
   "metadata": {},
   "source": [
    "## Serialisation\n",
    "\n",
    "The user can serialise and deserialise the devices using `to_json` and `from_json`. They can also generate the corresponding JSON schema."
   ]
  },
  {
   "cell_type": "code",
   "execution_count": 11,
   "metadata": {},
   "outputs": [
    {
     "name": "stdout",
     "output_type": "stream",
     "text": [
      "{\n",
      "  \"$schema\": \"http://json-schema.org/draft-07/schema#\",\n",
      "  \"title\": \"ImperfectReadoutModel\",\n",
      "  \"description\": \"Noise model representing readout errors.\\n\\nReadout errors are modeled by two probabilities in this simple model. One probability to detect a 1 instead of a 0 when the quantum measurement gives 0 and one probability to detect a 0 instead of a 1 when the quantum measurement gives 1.\\n\\n# Example\\n\\n```rust use roqoqo::noise_models::ImperfectReadoutModel;\\n\\nlet model = ImperfectReadoutModel::new_with_uniform_error(3, 0.5, 0.5).unwrap(); let model = model.set_error_probabilites(2, 0.3, 0.7).unwrap(); let uniform_prob = model.prob_detect_0_as_1(&0); assert_eq!(uniform_prob, 0.5); let lower_prob = model.prob_detect_0_as_1(&2); assert_eq!(lower_prob, 0.3); let higher_prob = model.prob_detect_1_as_0(&2); assert_eq!(higher_prob, 0.7); ```\",\n",
      "  \"type\": \"object\",\n",
      "  \"required\": [\n",
      "    \"prob_detect_0_as_1\",\n",
      "    \"prob_detect_1_as_0\"\n",
      "  ],\n",
      "  \"properties\": {\n",
      "    \"prob_detect_0_as_1\": {\n",
      "      \"description\": \"Decoherence rates for all qubits\",\n",
      "      \"type\": \"object\",\n",
      "      \"additionalProperties\": {\n",
      "        \"type\": \"number\",\n",
      "        \"format\": \"double\"\n",
      "      }\n",
      "    },\n",
      "    \"prob_detect_1_as_0\": {\n",
      "      \"type\": \"object\",\n",
      "      \"additionalProperties\": {\n",
      "        \"type\": \"number\",\n",
      "        \"format\": \"double\"\n",
      "      }\n",
      "    }\n",
      "  }\n",
      "}\n"
     ]
    }
   ],
   "source": [
    "from qoqo import noise_models\n",
    "\n",
    "model = noise_models.ImperfectReadoutModel.new_with_uniform_error(3, 0.5, 0.5)\n",
    "model = model.set_error_probabilites(2, 0.3, 0.7)\n",
    "model_serialised = model.to_json()\n",
    "model_deserialised = noise_models.ImperfectReadoutModel.from_json(model_serialised)\n",
    "assert model == model_deserialised\n",
    "\n",
    "print(model.json_schema())"
   ]
  }
 ],
 "metadata": {
  "kernelspec": {
   "display_name": "Python 3 (ipykernel)",
   "language": "python",
   "name": "python3"
  },
  "language_info": {
   "codemirror_mode": {
    "name": "ipython",
    "version": 3
   },
   "file_extension": ".py",
   "mimetype": "text/x-python",
   "name": "python",
   "nbconvert_exporter": "python",
   "pygments_lexer": "ipython3",
   "version": "3.10.5"
  },
  "vscode": {
   "interpreter": {
    "hash": "a1ba31c400d137d76a70fc2e1974f61660e195f0d443a61c8b897cf0b0e57695"
   }
  }
 },
 "nbformat": 4,
 "nbformat_minor": 5
}
