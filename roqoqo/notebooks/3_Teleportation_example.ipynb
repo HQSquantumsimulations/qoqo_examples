{
 "cells": [
  {
   "cell_type": "markdown",
   "metadata": {},
   "source": [
    "Copyright © 2021-2022 HQS Quantum Simulations GmbH. All Rights Reserved.\n",
    "\n",
    "Licensed under the Apache License, Version 2.0 (the \"License\"); you may not use this file except\n",
    "in compliance with the License. You may obtain a copy of the License at\n",
    "\n",
    "http://www.apache.org/licenses/LICENSE-2.0\n",
    "\n",
    "Unless required by applicable law or agreed to in writing, software distributed under the\n",
    "License is distributed on an \"AS IS\" BASIS, WITHOUT WARRANTIES OR CONDITIONS OF ANY KIND, either\n",
    "express or implied. See the License for the specific language governing permissions and\n",
    "limitations under the License."
   ]
  },
  {
   "cell_type": "markdown",
   "metadata": {},
   "source": [
    "# Quantum Teleportation with roqoqo & the use of conditional measurements\n",
    "\n",
    "This notebook is designed to demonstrate the use of conditional measurements, by following through an example of quantum state teleportation.\n",
    "\n",
    "In quantum teleportation there are two end users: The first user, Alice, wishes to send a particular quantum state to the second user, Bob. The protocol requires a total of three qubits, and the transmission of two classical bits. \n",
    "\n",
    "The sender Alice controls qubits 0 and 1, and the reciever Bob controls qubit 2. "
   ]
  },
  {
   "cell_type": "code",
   "execution_count": 2,
   "metadata": {},
   "outputs": [],
   "source": [
    ":dep roqoqo = \"1.0.0-beta.2\"\n",
    ":dep roqoqo-quest = \"0.7.2\"\n",
    ":dep num-complex = \"0.4\"\n",
    ":dep qoqo_calculator = \"1.0.0\""
   ]
  },
  {
   "cell_type": "code",
   "execution_count": 3,
   "metadata": {},
   "outputs": [],
   "source": [
    "extern crate num_complex;\n",
    "extern crate roqoqo;\n",
    "extern crate roqoqo_quest;\n",
    "\n",
    "use roqoqo::{Circuit, operations as ops,prelude::*};\n",
    "use roqoqo_quest::Backend;\n",
    "use std::collections::HashMap;\n",
    "use qoqo_calculator::CalculatorFloat;\n",
    "use core::f64::consts::PI as Pi;"
   ]
  },
  {
   "cell_type": "markdown",
   "metadata": {},
   "source": [
    "## State preparation\n",
    "\n",
    "The first step is to prepare the quantum state which Alice will send to Bob. As an example, the most general single qubit quantum state is given by:\n",
    "\\begin{equation}\n",
    "|\\psi \\rangle = cos(\\frac{\\theta}{2}) |0 \\rangle + e^{i \\phi} sin(\\frac{\\theta}{2}) |1 \\rangle.\n",
    "\\end{equation}\n",
    "This state can be prepared by a sequence of two single qubit rotations. In the code block below we first define a function that takes the angles $\\theta$ and $\\phi$ as input and prepares qubit 0 of a quantum register in the state $| \\psi \\rangle$.\n",
    "\n",
    "Next we use an instance of the function with the angles $\\theta=\\frac{\\pi}{2}$ and $\\phi=0$ to create a circuit which prepares the state: \n",
    "\\begin{equation}\n",
    "|\\psi \\rangle = \\frac{1}{\\sqrt{2}} \\big ( |0 \\rangle + |1 \\rangle \\big ) = | + \\rangle.\n",
    "\\end{equation}"
   ]
  },
  {
   "cell_type": "code",
   "execution_count": 4,
   "metadata": {},
   "outputs": [],
   "source": [
    "fn prep_psi (angle_thet: CalculatorFloat, angle_phi: CalculatorFloat) -> Circuit\n",
    "  {\n",
    "    let mut circuit = Circuit::new();\n",
    "    circuit += ops::RotateY::new(0, angle_thet);\n",
    "    circuit += ops::RotateZ::new(0, angle_phi);\n",
    "    return circuit\n",
    "}\n",
    "\n",
    "let init_circuit = prep_psi(CalculatorFloat::Float(Pi/2f64), CalculatorFloat::Float(0f64));"
   ]
  },
  {
   "cell_type": "markdown",
   "metadata": {},
   "source": [
    "## Preparing an entangled resource state\n",
    "\n",
    "Quantum teleportation requires that the end users initially share an entangled resource state, \n",
    "\\begin{equation}\n",
    "|\\Phi_{+} \\rangle = \\frac{1}{\\sqrt(2)} \\big ( |00 \\rangle + |11 \\rangle \\big ) .\n",
    "\\end{equation}\n",
    "\n",
    "The following circuit prepares the state $|\\Phi_{+} \\rangle$ between qubit 1, held by Alice, and qubit 2, held by Bob."
   ]
  },
  {
   "cell_type": "code",
   "execution_count": 5,
   "metadata": {},
   "outputs": [],
   "source": [
    "let mut entangling_circ = Circuit::new();\n",
    "entangling_circ += ops::Hadamard::new(1);\n",
    "entangling_circ += ops::CNOT::new(1, 2);"
   ]
  },
  {
   "cell_type": "markdown",
   "metadata": {},
   "source": [
    "## Encoding the state to be sent in the entangled resource state\n",
    "\n",
    "The next step of the procedure is to encode the state of qubit 0, $\\psi$, into the entangled resource state. This is accomplished by way of the circuit defined below, which is similar to that used to prepare the entangled resource. "
   ]
  },
  {
   "cell_type": "code",
   "execution_count": 6,
   "metadata": {},
   "outputs": [],
   "source": [
    "let mut encoding_circ = Circuit::new();\n",
    "encoding_circ += ops::CNOT::new(0, 1);\n",
    "encoding_circ += ops::Hadamard::new(0);"
   ]
  },
  {
   "cell_type": "markdown",
   "metadata": {},
   "source": [
    "## State transfer part 1: Measurement\n",
    "\n",
    "At this stage in the process both of Alice's qubits, 0 and 1, are measured. The measurement consumes the entangled resource and leaves the state of qubit 2,Bob's qubit, in a state that depends on the two measurement outcomes. \n",
    "\n",
    "Let us call the classical bit which results from measuring qubit 0 'M1' and the bit resulting from measuring qubit 1 'M2'. The circuit below defines the classical register named 'M1M2', performs the measurement of qubits 0 and 1, and stores the results in the register 'M1M2'. "
   ]
  },
  {
   "cell_type": "code",
   "execution_count": 7,
   "metadata": {},
   "outputs": [],
   "source": [
    "let mut meas_circ = Circuit::new();\n",
    "meas_circ += ops::DefinitionBit::new(\"M1M2\".to_string(), 2, true);\n",
    "meas_circ += ops::MeasureQubit::new(0, \"M1M2\".to_string(), 0);\n",
    "meas_circ += ops::MeasureQubit::new(1, \"M1M2\".to_string(), 1);"
   ]
  },
  {
   "cell_type": "markdown",
   "metadata": {},
   "source": [
    "## Defining the circuit for a conditional operation\n",
    "\n",
    "Conditional operations in roqoqo have three inputs: the name of a classical register containing boolean values, the index of the register containing the value to be used to condition the operation, and the operation or sequence of operations to be performed if the boolean condition value is True. \n",
    "\n",
    "To prepare the third input, it is necessary to create circuit snippets corresponding to the operations to be completed if the condition is True. \n",
    "\n",
    "In the case of quantum teleportation, we need two conditional operations. The first is a Pauli Z acting on Bob's qubit, conditioned on the measurement result M1. The second is a Pauli X acting on Bob's qubit, conditioned on the measurement result M2. \n",
    "\n",
    "Hence we prepare circuit snippets correspponding to a Pauli Z and a Pauli X operation."
   ]
  },
  {
   "cell_type": "code",
   "execution_count": 8,
   "metadata": {},
   "outputs": [],
   "source": [
    "let mut conditional_z = Circuit::new();\n",
    "conditional_z += ops::PauliZ::new(2);\n",
    "\n",
    "let mut conditional_x = Circuit::new();\n",
    "conditional_x += ops::PauliX::new(2);"
   ]
  },
  {
   "cell_type": "markdown",
   "metadata": {},
   "source": [
    "## State transfer part 2: conditional operations\n",
    "\n",
    "The final stage of the teleportation protocol is to perform corrections to the state of Bob's qubit 2, according to the measurement outcomes 'M1' and 'M2'.\n",
    "\n",
    "The below circuit makes use of the circuit snippets defined above to perform the conditional corrections to the state of qubit 2. 2. "
   ]
  },
  {
   "cell_type": "code",
   "execution_count": 9,
   "metadata": {},
   "outputs": [],
   "source": [
    "let mut conditional_circ = Circuit::new();\n",
    "conditional_circ += ops::PragmaConditional::new(\"M1M2\".to_string(), 1, conditional_x);\n",
    "conditional_circ += ops::PragmaConditional::new(\"M1M2\".to_string(), 0, conditional_z);"
   ]
  },
  {
   "cell_type": "markdown",
   "metadata": {},
   "source": [
    "## Putting it all together\n",
    "\n",
    "Combining each of the circuits we have defined yeilds the full teleportation protocol. We can verify that the protocol is successful by reading out the final state vector and comparing it to the state which was to be sent, $|\\psi \\rangle$."
   ]
  },
  {
   "cell_type": "code",
   "execution_count": 10,
   "metadata": {},
   "outputs": [
    {
     "name": "stdout",
     "output_type": "stream",
     "text": [
      "Result bit registers :[[true, true]]\n",
      "Result complex registers :[[Complex { re: 0.0, im: 0.0 }, Complex { re: 0.0, im: 0.0 }, Complex { re: 0.0, im: 0.0 }, Complex { re: 0.7071067811865472, im: 0.0 }, Complex { re: -0.0, im: 0.0 }, Complex { re: -0.0, im: 0.0 }, Complex { re: -0.0, im: 0.0 }, Complex { re: 0.7071067811865471, im: -0.0 }]]\n"
     ]
    }
   ],
   "source": [
    "let mut verification = Circuit::new();\n",
    "verification += ops::DefinitionComplex::new(\"psi\".to_string(), 8, true);\n",
    "verification += ops::PragmaGetStateVector::new(\"psi\".to_string(), Some(Circuit::new()));\n",
    "\n",
    "let teleportation_circuit = init_circuit + entangling_circ + encoding_circ + meas_circ + conditional_circ + verification;\n",
    "\n",
    "let backend = Backend::new(3);\n",
    "let result_of_run = backend.run_circuit(&teleportation_circuit);\n",
    "let (result_bit_registers, _result_float_registers, result_complex_registers) \n",
    "= result_of_run.unwrap();\n",
    "\n",
    "println!(\"Result bit registers :{:?}\",result_bit_registers[\"M1M2\"]);\n",
    "println!(\"Result complex registers :{:?}\",result_complex_registers[\"psi\"]);"
   ]
  }
 ],
 "metadata": {
  "kernelspec": {
   "display_name": "Rust",
   "language": "rust",
   "name": "rust"
  },
  "language_info": {
   "codemirror_mode": "rust",
   "file_extension": ".rs",
   "mimetype": "text/rust",
   "name": "rust",
   "pygment_lexer": "rust",
   "version": ""
  },
  "orig_nbformat": 4
 },
 "nbformat": 4,
 "nbformat_minor": 2
}
