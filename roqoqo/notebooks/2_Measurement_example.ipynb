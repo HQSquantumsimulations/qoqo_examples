{
 "cells": [
  {
   "cell_type": "markdown",
   "metadata": {},
   "source": [
    "Copyright © 2021-2023 HQS Quantum Simulations GmbH. All Rights Reserved.\n",
    "\n",
    "Licensed under the Apache License, Version 2.0 (the \"License\"); you may not use this file except\n",
    "in compliance with the License. You may obtain a copy of the License at\n",
    "\n",
    "http://www.apache.org/licenses/LICENSE-2.0\n",
    "\n",
    "Unless required by applicable law or agreed to in writing, software distributed under the\n",
    "License is distributed on an \"AS IS\" BASIS, WITHOUT WARRANTIES OR CONDITIONS OF ANY KIND, either\n",
    "express or implied. See the License for the specific language governing permissions and\n",
    "limitations under the License."
   ]
  },
  {
   "cell_type": "markdown",
   "metadata": {},
   "source": [
    "# Measuring qubits in roqoqo\n",
    "\n",
    "This notebook is designed to demonstrate the use of measurements in roqoqo. We will look at several examples of measuring qubits, from single and multi-qubit registers. To learn about the effect of measurement, we will look at the state vectors before and after measurement. "
   ]
  },
  {
   "cell_type": "code",
   "execution_count": null,
   "metadata": {},
   "outputs": [],
   "source": [
    ":dep roqoqo = \"1.2.5\"\n",
    ":dep roqoqo-quest = \"0.9.1\"\n",
    ":dep num-complex = \"0.4\""
   ]
  },
  {
   "cell_type": "code",
   "execution_count": null,
   "metadata": {},
   "outputs": [],
   "source": [
    "extern crate num_complex;\n",
    "extern crate roqoqo;\n",
    "extern crate roqoqo_quest;\n",
    "\n",
    "use roqoqo::{Circuit, operations,prelude::*};\n",
    "use roqoqo_quest::Backend;\n",
    "use std::collections::HashMap;"
   ]
  },
  {
   "cell_type": "markdown",
   "metadata": {},
   "source": [
    "## Measuring a single qubit\n",
    "\n",
    "Here we first prepare the qubit in a superposition state, \n",
    "\\begin{equation}\n",
    "|+ \\rangle = \\frac{1}{\\sqrt{2}} \\big ( |0 \\rangle + |1 \\rangle \\big ).\n",
    "\\end{equation}\n",
    "We look at the state after preparation, then do a measurement in the Z basis, and finally look again at the state after measurement. \n",
    "\n",
    "We see that the state after measurement has been projected into the state either $|0>$ or $|1>$, consistently with the measurement outcome. Running this code many times should result in a random distribution of 'True' and 'False' outcomes."
   ]
  },
  {
   "cell_type": "code",
   "execution_count": null,
   "metadata": {},
   "outputs": [],
   "source": [
    "let mut state_init = Circuit::new(); \n",
    "state_init += operations::Hadamard::new(0); //prepare |+> state\n",
    "\n",
    "// write state before measuring to readout register 'psi_in'\n",
    "let mut read_input = Circuit::new(); \n",
    "read_input += operations::DefinitionComplex::new(\"psi_in\".to_string(), 2, true);\n",
    "read_input += operations::PragmaGetStateVector::new(\"psi_in\".to_string(), Some(Circuit::new()));\n",
    "\n",
    "\n",
    "// measure qubit in Z basis and write result to classical register 'M1'\n",
    "let mut meas_circ = Circuit::new(); \n",
    "meas_circ += operations::DefinitionBit::new(\"M1\".to_string(), 1, true);\n",
    "meas_circ += operations::MeasureQubit::new(0, \"M1\".to_string(), 0);\n",
    "\n",
    "\n",
    "// write state after measuring to readout register 'psi_out'\n",
    "let mut read_output = Circuit::new();\n",
    "read_output += operations::DefinitionComplex::new(\"psi_out\".to_string(), 2, true);\n",
    "read_output += operations::PragmaGetStateVector::new(\"psi_out\".to_string(), Some(Circuit::new()));\n",
    "\n",
    "// put each step of the circuit together\n",
    "let circuit = state_init + read_input + meas_circ + read_output;\n",
    "\n",
    "// run the circuit and collect output\n",
    "let mut backend = roqoqo_quest::Backend::new(1);\n",
    "let result_of_run = backend.run_circuit(&circuit);\n",
    "let (result_bit_registers, _result_float_registers, result_complex_registers)\n",
    "= result_of_run.unwrap();\n",
    "\n",
    "println!(\"Input state:{:?}\",result_complex_registers[\"psi_in\"]);\n",
    "println!(\"Measurement result:{:?}\",result_bit_registers[\"M1\"]);\n",
    "println!(\"State after measurement:{:?} \\n\",result_complex_registers[\"psi_out\"]);\n"
   ]
  },
  {
   "cell_type": "markdown",
   "metadata": {},
   "source": [
    "## Measuring a single qubit in the X basis\n",
    "\n",
    "Instead of measuring in the Z basis, we can measure the qubit in the X basis by performing a Hadamard operator before the measurement. \n",
    "\n",
    "This time we see that the measurement result is always 'False', since we are measuring the $|+ \\rangle$ state in the X basis, and it is an X eigenvector of the X operator. "
   ]
  },
  {
   "cell_type": "code",
   "execution_count": null,
   "metadata": {},
   "outputs": [],
   "source": [
    "let number_of_qubits: usize = 3;\n",
    "\n",
    "let mut state_init = Circuit::new();\n",
    "state_init += operations::PauliX::new(1);\n",
    "state_init += operations::Hadamard::new(0);\n",
    "state_init += operations::CNOT::new(0, 1);\n",
    "state_init += operations::CNOT::new(0, 2);\n",
    "state_init += operations::SGate::new(0);\n",
    "\n",
    "// write state before measuring to readout register 'psi_in'\n",
    "let mut read_input = Circuit::new();\n",
    "read_input += operations::DefinitionComplex::new(\"psi_in\".to_string(), 2usize.pow(number_of_qubits as u32),  true);\n",
    "read_input += operations::PragmaGetStateVector::new(\"psi_in\".to_string(), Some(Circuit::new()));\n",
    "\n",
    "// measure qubits in Z basis and write result to classical register 'M1M2M3'\n",
    "let mut meas_circ = Circuit::new();\n",
    "meas_circ += operations::DefinitionBit::new(\"M1M2M3\".to_string(), 3, true);\n",
    "meas_circ += operations::MeasureQubit::new(0, \"M1M2M3\".to_string(), 0);\n",
    "meas_circ += operations::MeasureQubit::new(1, \"M1M2M3\".to_string(), 1);\n",
    "meas_circ += operations::MeasureQubit::new(2, \"M1M2M3\".to_string(), 2);\n",
    "\n",
    "// write state after measuring to readout register 'psi_out'\n",
    "let mut read_output = Circuit::new();\n",
    "read_output += operations::DefinitionComplex::new(\"psi_out\".to_string(), 2usize.pow(number_of_qubits as u32),true );\n",
    "read_output += operations::PragmaGetStateVector::new(\"psi_out\".to_string(), Some(Circuit::new()));\n",
    "\n",
    "let mut circuit = state_init + read_input + meas_circ + read_output;\n",
    "\n",
    "// run the circuit and collect output\n",
    "let backend = roqoqo_quest::Backend::new(number_of_qubits);\n",
    "let result_of_run = backend.run_circuit(&circuit);\n",
    "let (result_bit_registers,_result_float_registers,result_complex_registers) \n",
    "= result_of_run.unwrap_or_default();\n",
    "\n",
    "println!(\"Input state:{:?}\",result_complex_registers[\"psi_in\"]);\n",
    "println!(\"Measurement result:{:?}\",result_bit_registers[\"M1M2M3\"]);\n",
    "println!(\"State after measurement:{:?} \\n\",result_complex_registers[\"psi_out\"]);"
   ]
  },
  {
   "cell_type": "markdown",
   "metadata": {},
   "source": [
    "## Measuring a multi-qubit register\n",
    "\n",
    "Here we first prepare a multi-qubit register and demonstrate how it is possible to measure the entire register. As an example we prepare the multi-qubit register in the state, \n",
    "\\begin{equation}\n",
    "|\\psi \\rangle = \\frac{1}{\\sqrt{2}} |010 \\rangle + \\frac{i}{\\sqrt{2}} |101 \\rangle.\n",
    "\\end{equation}\n",
    "\n",
    "After preparation we read out the simulated state, before measurement. Next we measure each qubit of the state, and finally we readout out the post-measurement state. "
   ]
  },
  {
   "cell_type": "code",
   "execution_count": null,
   "metadata": {},
   "outputs": [],
   "source": [
    "let number_of_qubits: usize = 3;\n",
    "\n",
    "let mut state_init = Circuit::new();\n",
    "state_init += operations::PauliX::new(1);\n",
    "state_init += operations::Hadamard::new(0);\n",
    "state_init += operations::CNOT::new(0, 1);\n",
    "state_init += operations::CNOT::new(0, 2);\n",
    "state_init += operations::SGate::new(0);\n",
    "\n",
    "// write state before measuring to readout register 'psi_in'\n",
    "let mut read_input = Circuit::new();\n",
    "read_input += operations::DefinitionComplex::new(\"psi_in\".to_string(), 2usize.pow(number_of_qubits as u32),  true);\n",
    "read_input += operations::PragmaGetStateVector::new(\"psi_in\".to_string(), Some(Circuit::new()));\n",
    "\n",
    "// measure qubit in Z basis and write result to classical register 'M1'\n",
    "let mut meas_circ = Circuit::new();\n",
    "meas_circ += operations::DefinitionBit::new(\"M1\".to_string(), 1, true);\n",
    "meas_circ += operations::MeasureQubit::new(0, \"M1\".to_string(), 0);\n",
    "\n",
    "// write state after measuring to readout register 'psi_out'\n",
    "let mut read_output = Circuit::new();\n",
    "read_output += operations::DefinitionComplex::new(\"psi_out\".to_string(), 2usize.pow(number_of_qubits as u32),true );\n",
    "read_output += operations::PragmaGetStateVector::new(\"psi_out\".to_string(), Some(Circuit::new()));\n",
    "\n",
    "let circuit = state_init + read_input + meas_circ + read_output;\n",
    "\n",
    "// run the circuit and collect output\n",
    "let backend = roqoqo_quest::Backend::new(number_of_qubits);\n",
    "let result_of_run = backend.run_circuit(&circuit);\n",
    "let (result_bit_registers,_result_float_registers,result_complex_registers) \n",
    "= result_of_run.unwrap_or_default();\n",
    "\n",
    "println!(\"Input state:{:?}\",result_complex_registers[\"psi_in\"]);\n",
    "println!(\"Measurement result:{:?}\",result_bit_registers[\"M1\"]);\n",
    "println!(\"State after measurement:{:?}\",result_complex_registers[\"psi_out\"]);"
   ]
  },
  {
   "cell_type": "code",
   "execution_count": null,
   "metadata": {},
   "outputs": [],
   "source": []
  }
 ],
 "metadata": {
  "interpreter": {
   "hash": "c8f97856661931426e5d93e28fbb8d074bb508719cb5d86de5dea0c4525ce533"
  },
  "kernelspec": {
   "display_name": "Rust",
   "language": "rust",
   "name": "rust"
  },
  "language_info": {
   "codemirror_mode": "rust",
   "file_extension": ".rs",
   "mimetype": "text/rust",
   "name": "Rust",
   "pygment_lexer": "rust",
   "version": ""
  }
 },
 "nbformat": 4,
 "nbformat_minor": 2
}
